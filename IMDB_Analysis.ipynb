{
  "nbformat": 4,
  "nbformat_minor": 0,
  "metadata": {
    "colab": {
      "name": "IMDB Analysis.ipynb",
      "provenance": [],
      "collapsed_sections": []
    },
    "kernelspec": {
      "name": "python3",
      "display_name": "Python 3"
    }
  },
  "cells": [
    {
      "cell_type": "markdown",
      "metadata": {
        "id": "nUlQRq6LYdr7",
        "colab_type": "text"
      },
      "source": [
        "# Data Extraction & Data Prep"
      ]
    },
    {
      "cell_type": "code",
      "metadata": {
        "id": "ze-RTj8rAK1I",
        "colab_type": "code",
        "colab": {
          "base_uri": "https://localhost:8080/",
          "height": 79
        },
        "outputId": "72d6be4e-16ca-4e66-9502-9b1ffc38dd09"
      },
      "source": [
        "from keras.datasets import imdb"
      ],
      "execution_count": 1,
      "outputs": [
        {
          "output_type": "stream",
          "text": [
            "Using TensorFlow backend.\n"
          ],
          "name": "stderr"
        },
        {
          "output_type": "display_data",
          "data": {
            "text/html": [
              "<p style=\"color: red;\">\n",
              "The default version of TensorFlow in Colab will soon switch to TensorFlow 2.x.<br>\n",
              "We recommend you <a href=\"https://www.tensorflow.org/guide/migrate\" target=\"_blank\">upgrade</a> now \n",
              "or ensure your notebook will continue to use TensorFlow 1.x via the <code>%tensorflow_version 1.x</code> magic:\n",
              "<a href=\"https://colab.research.google.com/notebooks/tensorflow_version.ipynb\" target=\"_blank\">more info</a>.</p>\n"
            ],
            "text/plain": [
              "<IPython.core.display.HTML object>"
            ]
          },
          "metadata": {
            "tags": []
          }
        }
      ]
    },
    {
      "cell_type": "code",
      "metadata": {
        "id": "o1dFsAddASkQ",
        "colab_type": "code",
        "colab": {
          "base_uri": "https://localhost:8080/",
          "height": 50
        },
        "outputId": "ecece136-c674-45d8-bebc-18ff62bd4f7f"
      },
      "source": [
        "(train_data, train_labels) , (test_data, test_labels) = imdb.load_data(num_words=10000)"
      ],
      "execution_count": 2,
      "outputs": [
        {
          "output_type": "stream",
          "text": [
            "Downloading data from https://s3.amazonaws.com/text-datasets/imdb.npz\n",
            "17465344/17464789 [==============================] - 0s 0us/step\n"
          ],
          "name": "stdout"
        }
      ]
    },
    {
      "cell_type": "code",
      "metadata": {
        "id": "9bzaG6ZiAiTs",
        "colab_type": "code",
        "colab": {
          "base_uri": "https://localhost:8080/",
          "height": 34
        },
        "outputId": "c479df3b-4870-4b85-d268-fb64394af471"
      },
      "source": [
        "train_labels[0]"
      ],
      "execution_count": 4,
      "outputs": [
        {
          "output_type": "execute_result",
          "data": {
            "text/plain": [
              "1"
            ]
          },
          "metadata": {
            "tags": []
          },
          "execution_count": 4
        }
      ]
    },
    {
      "cell_type": "code",
      "metadata": {
        "id": "g13O3A61AlUo",
        "colab_type": "code",
        "colab": {}
      },
      "source": [
        "import numpy as np\n",
        "def vs(ss,d=10000):\n",
        "  rs = np.zeros((len(ss),d))\n",
        "  for i,s in enumerate(ss):\n",
        "    rs[i, s] = 1\n",
        "  return rs"
      ],
      "execution_count": 0,
      "outputs": []
    },
    {
      "cell_type": "code",
      "metadata": {
        "id": "CiScefCUC0E7",
        "colab_type": "code",
        "colab": {}
      },
      "source": [
        "x_train = vs(train_data)\n",
        "x_test = vs(test_data)"
      ],
      "execution_count": 0,
      "outputs": []
    },
    {
      "cell_type": "code",
      "metadata": {
        "id": "ZNTKF--MDBUO",
        "colab_type": "code",
        "colab": {
          "base_uri": "https://localhost:8080/",
          "height": 34
        },
        "outputId": "8ab382d7-fcf8-4458-b048-01d74ab58045"
      },
      "source": [
        "x_train[0]"
      ],
      "execution_count": 9,
      "outputs": [
        {
          "output_type": "execute_result",
          "data": {
            "text/plain": [
              "array([0., 1., 1., ..., 0., 0., 0.])"
            ]
          },
          "metadata": {
            "tags": []
          },
          "execution_count": 9
        }
      ]
    },
    {
      "cell_type": "code",
      "metadata": {
        "id": "9P4ZGXgUDLgw",
        "colab_type": "code",
        "colab": {}
      },
      "source": [
        "y_train = np.asarray(train_labels).astype('float32')\n",
        "y_test = np.asarray(test_labels).astype('float32')"
      ],
      "execution_count": 0,
      "outputs": []
    },
    {
      "cell_type": "markdown",
      "metadata": {
        "id": "s9T79wcYYrGI",
        "colab_type": "text"
      },
      "source": [
        "# Model Building"
      ]
    },
    {
      "cell_type": "code",
      "metadata": {
        "id": "Z4b_Bk5hDfdg",
        "colab_type": "code",
        "colab": {}
      },
      "source": [
        "from keras import models\n",
        "from keras import layers"
      ],
      "execution_count": 0,
      "outputs": []
    },
    {
      "cell_type": "code",
      "metadata": {
        "id": "6y08RVTCGg86",
        "colab_type": "code",
        "colab": {
          "base_uri": "https://localhost:8080/",
          "height": 104
        },
        "outputId": "16179185-7371-424b-a3a9-656414b0b74a"
      },
      "source": [
        "model = models.Sequential()\n",
        "model.add(layers.Dense(16, activation='relu', input_shape=(10000,)))\n",
        "model.add(layers.Dense(16, activation='relu'))\n",
        "model.add(layers.Dense(1, activation='sigmoid'))"
      ],
      "execution_count": 14,
      "outputs": [
        {
          "output_type": "stream",
          "text": [
            "WARNING:tensorflow:From /usr/local/lib/python3.6/dist-packages/keras/backend/tensorflow_backend.py:541: The name tf.placeholder is deprecated. Please use tf.compat.v1.placeholder instead.\n",
            "\n",
            "WARNING:tensorflow:From /usr/local/lib/python3.6/dist-packages/keras/backend/tensorflow_backend.py:4432: The name tf.random_uniform is deprecated. Please use tf.random.uniform instead.\n",
            "\n"
          ],
          "name": "stdout"
        }
      ]
    },
    {
      "cell_type": "code",
      "metadata": {
        "id": "RNKOa5r6HEpa",
        "colab_type": "code",
        "colab": {
          "base_uri": "https://localhost:8080/",
          "height": 154
        },
        "outputId": "d0b20b1e-5fb2-418a-8835-39ddf8b21c56"
      },
      "source": [
        "model.compile(optimizer='rmsprop',\n",
        "              loss = 'binary_crossentropy',\n",
        "              metrics=['accuracy'])"
      ],
      "execution_count": 15,
      "outputs": [
        {
          "output_type": "stream",
          "text": [
            "WARNING:tensorflow:From /usr/local/lib/python3.6/dist-packages/keras/optimizers.py:793: The name tf.train.Optimizer is deprecated. Please use tf.compat.v1.train.Optimizer instead.\n",
            "\n",
            "WARNING:tensorflow:From /usr/local/lib/python3.6/dist-packages/keras/backend/tensorflow_backend.py:3657: The name tf.log is deprecated. Please use tf.math.log instead.\n",
            "\n",
            "WARNING:tensorflow:From /usr/local/lib/python3.6/dist-packages/tensorflow_core/python/ops/nn_impl.py:183: where (from tensorflow.python.ops.array_ops) is deprecated and will be removed in a future version.\n",
            "Instructions for updating:\n",
            "Use tf.where in 2.0, which has the same broadcast rule as np.where\n"
          ],
          "name": "stdout"
        }
      ]
    },
    {
      "cell_type": "code",
      "metadata": {
        "id": "Ew-8WsJKIR0Z",
        "colab_type": "code",
        "colab": {}
      },
      "source": [
        "x_val = x_train[:10000]\n",
        "partial_x_train = x_train[10000:]"
      ],
      "execution_count": 0,
      "outputs": []
    },
    {
      "cell_type": "code",
      "metadata": {
        "id": "FV8pT3wHJDA_",
        "colab_type": "code",
        "colab": {}
      },
      "source": [
        "y_val = y_train[:10000]\n",
        "partial_y_train = y_train[10000:]"
      ],
      "execution_count": 0,
      "outputs": []
    },
    {
      "cell_type": "code",
      "metadata": {
        "id": "gW3SS8caJYIy",
        "colab_type": "code",
        "colab": {
          "base_uri": "https://localhost:8080/",
          "height": 994
        },
        "outputId": "50b74437-3b52-431f-b6c1-39e653cc47b8"
      },
      "source": [
        "history = model.fit(partial_x_train,\n",
        "                    partial_y_train,\n",
        "                    epochs=20,\n",
        "                    batch_size=512,\n",
        "                    validation_data = (x_val,y_val))"
      ],
      "execution_count": 20,
      "outputs": [
        {
          "output_type": "stream",
          "text": [
            "WARNING:tensorflow:From /usr/local/lib/python3.6/dist-packages/keras/backend/tensorflow_backend.py:1033: The name tf.assign_add is deprecated. Please use tf.compat.v1.assign_add instead.\n",
            "\n",
            "WARNING:tensorflow:From /usr/local/lib/python3.6/dist-packages/keras/backend/tensorflow_backend.py:1020: The name tf.assign is deprecated. Please use tf.compat.v1.assign instead.\n",
            "\n",
            "WARNING:tensorflow:From /usr/local/lib/python3.6/dist-packages/keras/backend/tensorflow_backend.py:3005: The name tf.Session is deprecated. Please use tf.compat.v1.Session instead.\n",
            "\n",
            "Train on 15000 samples, validate on 10000 samples\n",
            "Epoch 1/20\n",
            "WARNING:tensorflow:From /usr/local/lib/python3.6/dist-packages/keras/backend/tensorflow_backend.py:190: The name tf.get_default_session is deprecated. Please use tf.compat.v1.get_default_session instead.\n",
            "\n",
            "WARNING:tensorflow:From /usr/local/lib/python3.6/dist-packages/keras/backend/tensorflow_backend.py:197: The name tf.ConfigProto is deprecated. Please use tf.compat.v1.ConfigProto instead.\n",
            "\n",
            "WARNING:tensorflow:From /usr/local/lib/python3.6/dist-packages/keras/backend/tensorflow_backend.py:207: The name tf.global_variables is deprecated. Please use tf.compat.v1.global_variables instead.\n",
            "\n",
            "WARNING:tensorflow:From /usr/local/lib/python3.6/dist-packages/keras/backend/tensorflow_backend.py:216: The name tf.is_variable_initialized is deprecated. Please use tf.compat.v1.is_variable_initialized instead.\n",
            "\n",
            "WARNING:tensorflow:From /usr/local/lib/python3.6/dist-packages/keras/backend/tensorflow_backend.py:223: The name tf.variables_initializer is deprecated. Please use tf.compat.v1.variables_initializer instead.\n",
            "\n",
            "15000/15000 [==============================] - 2s 143us/step - loss: 0.5198 - acc: 0.7779 - val_loss: 0.3845 - val_acc: 0.8700\n",
            "Epoch 2/20\n",
            "15000/15000 [==============================] - 1s 98us/step - loss: 0.3092 - acc: 0.9018 - val_loss: 0.3168 - val_acc: 0.8827\n",
            "Epoch 3/20\n",
            "15000/15000 [==============================] - 1s 98us/step - loss: 0.2272 - acc: 0.9264 - val_loss: 0.2817 - val_acc: 0.8905\n",
            "Epoch 4/20\n",
            "15000/15000 [==============================] - 2s 102us/step - loss: 0.1814 - acc: 0.9413 - val_loss: 0.2913 - val_acc: 0.8826\n",
            "Epoch 5/20\n",
            "15000/15000 [==============================] - 2s 100us/step - loss: 0.1487 - acc: 0.9529 - val_loss: 0.3070 - val_acc: 0.8791\n",
            "Epoch 6/20\n",
            "15000/15000 [==============================] - 1s 98us/step - loss: 0.1217 - acc: 0.9640 - val_loss: 0.2922 - val_acc: 0.8851\n",
            "Epoch 7/20\n",
            "15000/15000 [==============================] - 1s 98us/step - loss: 0.1038 - acc: 0.9688 - val_loss: 0.3053 - val_acc: 0.8857\n",
            "Epoch 8/20\n",
            "15000/15000 [==============================] - 1s 98us/step - loss: 0.0846 - acc: 0.9766 - val_loss: 0.3744 - val_acc: 0.8664\n",
            "Epoch 9/20\n",
            "15000/15000 [==============================] - 1s 99us/step - loss: 0.0737 - acc: 0.9800 - val_loss: 0.3443 - val_acc: 0.8782\n",
            "Epoch 10/20\n",
            "15000/15000 [==============================] - 1s 100us/step - loss: 0.0615 - acc: 0.9845 - val_loss: 0.3862 - val_acc: 0.8773\n",
            "Epoch 11/20\n",
            "15000/15000 [==============================] - 2s 101us/step - loss: 0.0495 - acc: 0.9879 - val_loss: 0.4044 - val_acc: 0.8776\n",
            "Epoch 12/20\n",
            "15000/15000 [==============================] - 1s 99us/step - loss: 0.0437 - acc: 0.9899 - val_loss: 0.4185 - val_acc: 0.8764\n",
            "Epoch 13/20\n",
            "15000/15000 [==============================] - 1s 99us/step - loss: 0.0330 - acc: 0.9935 - val_loss: 0.4526 - val_acc: 0.8745\n",
            "Epoch 14/20\n",
            "15000/15000 [==============================] - 1s 100us/step - loss: 0.0289 - acc: 0.9936 - val_loss: 0.4834 - val_acc: 0.8730\n",
            "Epoch 15/20\n",
            "15000/15000 [==============================] - 1s 98us/step - loss: 0.0241 - acc: 0.9956 - val_loss: 0.5145 - val_acc: 0.8717\n",
            "Epoch 16/20\n",
            "15000/15000 [==============================] - 1s 99us/step - loss: 0.0170 - acc: 0.9977 - val_loss: 0.5368 - val_acc: 0.8690\n",
            "Epoch 17/20\n",
            "15000/15000 [==============================] - 1s 100us/step - loss: 0.0160 - acc: 0.9979 - val_loss: 0.5710 - val_acc: 0.8689\n",
            "Epoch 18/20\n",
            "15000/15000 [==============================] - 1s 100us/step - loss: 0.0130 - acc: 0.9975 - val_loss: 0.5949 - val_acc: 0.8681\n",
            "Epoch 19/20\n",
            "15000/15000 [==============================] - 1s 97us/step - loss: 0.0115 - acc: 0.9977 - val_loss: 0.6250 - val_acc: 0.8667\n",
            "Epoch 20/20\n",
            "15000/15000 [==============================] - 1s 99us/step - loss: 0.0059 - acc: 0.9997 - val_loss: 0.6581 - val_acc: 0.8629\n"
          ],
          "name": "stdout"
        }
      ]
    },
    {
      "cell_type": "markdown",
      "metadata": {
        "id": "2SzqsJHJYwq_",
        "colab_type": "text"
      },
      "source": [
        "# Model Diagnostics"
      ]
    },
    {
      "cell_type": "code",
      "metadata": {
        "id": "0QzdRFiWJ8yZ",
        "colab_type": "code",
        "colab": {
          "base_uri": "https://localhost:8080/",
          "height": 34
        },
        "outputId": "910ccf41-ba79-4a99-9b73-0f643f0062dc"
      },
      "source": [
        "history_dict = history.history\n",
        "history_dict.keys()"
      ],
      "execution_count": 23,
      "outputs": [
        {
          "output_type": "execute_result",
          "data": {
            "text/plain": [
              "dict_keys(['val_loss', 'val_acc', 'loss', 'acc'])"
            ]
          },
          "metadata": {
            "tags": []
          },
          "execution_count": 23
        }
      ]
    },
    {
      "cell_type": "code",
      "metadata": {
        "id": "PkLxfSviKWus",
        "colab_type": "code",
        "colab": {}
      },
      "source": [
        "import matplotlib.pyplot as plt\n",
        "loss_val = history_dict['loss']\n",
        "val_loss = history_dict['val_loss']\n",
        "acc = history_dict['acc']"
      ],
      "execution_count": 0,
      "outputs": []
    },
    {
      "cell_type": "code",
      "metadata": {
        "id": "9Yt35zJUKdC0",
        "colab_type": "code",
        "colab": {
          "base_uri": "https://localhost:8080/",
          "height": 295
        },
        "outputId": "ec2751f7-1943-4afd-d702-8a1c31e5915d"
      },
      "source": [
        "epochs = range(1,len(acc) + 1)\n",
        "plt.plot(epochs, loss_val,'bo', label = 'Training loss')\n",
        "plt.plot(epochs, val_loss,'b', label = 'validation loss')\n",
        "plt.title(\"Train and val Loss\")\n",
        "plt.xlabel(\"Epochs\")\n",
        "plt.ylabel(\"Loss\")\n",
        "plt.legend()\n",
        "plt.show()"
      ],
      "execution_count": 29,
      "outputs": [
        {
          "output_type": "display_data",
          "data": {
            "image/png": "[encoded data removed]",
            "text/plain": [
              "<Figure size 432x288 with 1 Axes>"
            ]
          },
          "metadata": {
            "tags": []
          }
        }
      ]
    },
    {
      "cell_type": "code",
      "metadata": {
        "id": "hzQcqaFDLOqu",
        "colab_type": "code",
        "colab": {}
      },
      "source": [
        "acc_val = history_dict['acc']\n",
        "val_acc = history_dict['val_acc']\n",
        "acc = history_dict['acc']"
      ],
      "execution_count": 0,
      "outputs": []
    },
    {
      "cell_type": "code",
      "metadata": {
        "id": "_S4vtCgtMEET",
        "colab_type": "code",
        "colab": {
          "base_uri": "https://localhost:8080/",
          "height": 295
        },
        "outputId": "145d5a36-498d-4beb-f9eb-45bfeb493326"
      },
      "source": [
        "epochs = range(1,len(acc) + 1)\n",
        "plt.plot(epochs, acc_val,'bo', label = 'Training loss')\n",
        "plt.plot(epochs, val_acc,'b', label = 'validation loss')\n",
        "plt.title(\"Train and val Loss\")\n",
        "plt.xlabel(\"Epochs\")\n",
        "plt.ylabel(\"Loss\")\n",
        "plt.legend()\n",
        "plt.show()"
      ],
      "execution_count": 32,
      "outputs": [
        {
          "output_type": "display_data",
          "data": {
            "image/png": "[encoded data removed]",
            "text/plain": [
              "<Figure size 432x288 with 1 Axes>"
            ]
          },
          "metadata": {
            "tags": []
          }
        }
      ]
    },
    {
      "cell_type": "code",
      "metadata": {
        "id": "H0Q3DN0PMOgG",
        "colab_type": "code",
        "colab": {
          "base_uri": "https://localhost:8080/",
          "height": 742
        },
        "outputId": "7912b1c6-7f75-475a-d1c4-c563e4165885"
      },
      "source": [
        "model.fit(partial_x_train,\n",
        "                    partial_y_train,\n",
        "                    epochs=20,\n",
        "                    batch_size=512,\n",
        "                    validation_data = (x_val,y_val))"
      ],
      "execution_count": 33,
      "outputs": [
        {
          "output_type": "stream",
          "text": [
            "Train on 15000 samples, validate on 10000 samples\n",
            "Epoch 1/20\n",
            "15000/15000 [==============================] - 2s 148us/step - loss: 0.0077 - acc: 0.9989 - val_loss: 0.6830 - val_acc: 0.8643\n",
            "Epoch 2/20\n",
            "15000/15000 [==============================] - 1s 96us/step - loss: 0.0061 - acc: 0.9989 - val_loss: 0.7109 - val_acc: 0.8645\n",
            "Epoch 3/20\n",
            "15000/15000 [==============================] - 1s 97us/step - loss: 0.0028 - acc: 0.9999 - val_loss: 0.7401 - val_acc: 0.8635\n",
            "Epoch 4/20\n",
            "15000/15000 [==============================] - 1s 97us/step - loss: 0.0044 - acc: 0.9993 - val_loss: 0.7758 - val_acc: 0.8625\n",
            "Epoch 5/20\n",
            "15000/15000 [==============================] - 1s 98us/step - loss: 0.0018 - acc: 0.9999 - val_loss: 0.8126 - val_acc: 0.8586\n",
            "Epoch 6/20\n",
            "15000/15000 [==============================] - 1s 98us/step - loss: 0.0047 - acc: 0.9988 - val_loss: 0.8340 - val_acc: 0.8610\n",
            "Epoch 7/20\n",
            "15000/15000 [==============================] - 1s 97us/step - loss: 0.0010 - acc: 0.9999 - val_loss: 0.8549 - val_acc: 0.8609\n",
            "Epoch 8/20\n",
            "15000/15000 [==============================] - 1s 96us/step - loss: 0.0032 - acc: 0.9992 - val_loss: 0.8865 - val_acc: 0.8597\n",
            "Epoch 9/20\n",
            "15000/15000 [==============================] - 1s 99us/step - loss: 6.4702e-04 - acc: 1.0000 - val_loss: 0.9004 - val_acc: 0.8601\n",
            "Epoch 10/20\n",
            "15000/15000 [==============================] - 1s 98us/step - loss: 5.5377e-04 - acc: 1.0000 - val_loss: 0.9434 - val_acc: 0.8604\n",
            "Epoch 11/20\n",
            "15000/15000 [==============================] - 1s 96us/step - loss: 0.0033 - acc: 0.9993 - val_loss: 0.9620 - val_acc: 0.8599\n",
            "Epoch 12/20\n",
            "15000/15000 [==============================] - 1s 98us/step - loss: 3.0916e-04 - acc: 1.0000 - val_loss: 0.9725 - val_acc: 0.8587\n",
            "Epoch 13/20\n",
            "15000/15000 [==============================] - 1s 98us/step - loss: 2.7473e-04 - acc: 1.0000 - val_loss: 0.9973 - val_acc: 0.8581\n",
            "Epoch 14/20\n",
            "15000/15000 [==============================] - 1s 99us/step - loss: 0.0035 - acc: 0.9987 - val_loss: 1.0303 - val_acc: 0.8581\n",
            "Epoch 15/20\n",
            "15000/15000 [==============================] - 1s 97us/step - loss: 1.6441e-04 - acc: 1.0000 - val_loss: 1.0385 - val_acc: 0.8586\n",
            "Epoch 16/20\n",
            "15000/15000 [==============================] - 1s 96us/step - loss: 1.4442e-04 - acc: 1.0000 - val_loss: 1.0517 - val_acc: 0.8582\n",
            "Epoch 17/20\n",
            "15000/15000 [==============================] - 1s 98us/step - loss: 1.2237e-04 - acc: 1.0000 - val_loss: 1.0891 - val_acc: 0.8571\n",
            "Epoch 18/20\n",
            "15000/15000 [==============================] - 1s 97us/step - loss: 0.0018 - acc: 0.9995 - val_loss: 1.1059 - val_acc: 0.8569\n",
            "Epoch 19/20\n",
            "15000/15000 [==============================] - 1s 99us/step - loss: 7.7037e-05 - acc: 1.0000 - val_loss: 1.1179 - val_acc: 0.8566\n",
            "Epoch 20/20\n",
            "15000/15000 [==============================] - 1s 98us/step - loss: 6.7179e-05 - acc: 1.0000 - val_loss: 1.1376 - val_acc: 0.8559\n"
          ],
          "name": "stdout"
        },
        {
          "output_type": "execute_result",
          "data": {
            "text/plain": [
              "<keras.callbacks.History at 0x7f06151ecc18>"
            ]
          },
          "metadata": {
            "tags": []
          },
          "execution_count": 33
        }
      ]
    },
    {
      "cell_type": "code",
      "metadata": {
        "id": "DHC68HNNNj2r",
        "colab_type": "code",
        "colab": {
          "base_uri": "https://localhost:8080/",
          "height": 34
        },
        "outputId": "1fdcfbc5-af8e-4684-967b-8539731567d8"
      },
      "source": [
        "result = model.evaluate(x_test, y_test)"
      ],
      "execution_count": 34,
      "outputs": [
        {
          "output_type": "stream",
          "text": [
            "25000/25000 [==============================] - 2s 66us/step\n"
          ],
          "name": "stdout"
        }
      ]
    },
    {
      "cell_type": "code",
      "metadata": {
        "id": "YS_Go_gUNyo2",
        "colab_type": "code",
        "colab": {
          "base_uri": "https://localhost:8080/",
          "height": 34
        },
        "outputId": "3f2bb304-0c53-4257-f973-e920e5b041bd"
      },
      "source": [
        "result"
      ],
      "execution_count": 35,
      "outputs": [
        {
          "output_type": "execute_result",
          "data": {
            "text/plain": [
              "[1.2488735016393662, 0.8408]"
            ]
          },
          "metadata": {
            "tags": []
          },
          "execution_count": 35
        }
      ]
    },
    {
      "cell_type": "markdown",
      "metadata": {
        "id": "BrVGktHcY22f",
        "colab_type": "text"
      },
      "source": [
        "# Model Predictions"
      ]
    },
    {
      "cell_type": "code",
      "metadata": {
        "id": "1K9lnD-HN1TW",
        "colab_type": "code",
        "colab": {
          "base_uri": "https://localhost:8080/",
          "height": 134
        },
        "outputId": "1216b5f2-00fa-4815-8a89-f2248b884297"
      },
      "source": [
        "model.predict(x_test)"
      ],
      "execution_count": 36,
      "outputs": [
        {
          "output_type": "execute_result",
          "data": {
            "text/plain": [
              "array([[2.0697713e-04],\n",
              "       [1.0000000e+00],\n",
              "       [9.9776304e-01],\n",
              "       ...,\n",
              "       [5.1856041e-05],\n",
              "       [2.8680563e-03],\n",
              "       [3.9436138e-01]], dtype=float32)"
            ]
          },
          "metadata": {
            "tags": []
          },
          "execution_count": 36
        }
      ]
    },
    {
      "cell_type": "code",
      "metadata": {
        "id": "wzvs4sEVN8cG",
        "colab_type": "code",
        "colab": {}
      },
      "source": [
        ""
      ],
      "execution_count": 0,
      "outputs": []
    }
  ]
}